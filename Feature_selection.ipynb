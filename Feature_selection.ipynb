{
 "cells": [
  {
   "cell_type": "markdown",
   "metadata": {},
   "source": [
    "# Gene Expression Assay: \n",
    "# A New Panel for Early Metastatic Risk Estimation for Breast Cancer\n",
    "\n",
    "Number of Samples 202\n",
    "\" First 101 observation of DATA is MET and other 101 is NON_MET\"\n",
    "Number of gene : 54675 \n",
    "\n",
    "number of observation is less then the number of features, \n",
    "we need feature selection\n",
    "\n",
    "We take data for each gene and separated them by classes. \n",
    "draw histograms of the values of two separate classes.\n",
    "We used the normalized version of the difference of the histograms to decide whether to use that gene.\n",
    "We know that if the Distributions are very close to each other, there would be no useful information."
   ]
  },
  {
   "cell_type": "code",
   "execution_count": 1,
   "metadata": {},
   "outputs": [],
   "source": [
    "import pandas as pd\n",
    "import numpy as np\n",
    "import glob\n",
    "import pickle\n",
    "import random\n",
    "import matplotlib.pyplot as plt\n",
    "%matplotlib inline"
   ]
  },
  {
   "cell_type": "markdown",
   "metadata": {},
   "source": [
    "### there is only the raw data in the raw_data folder."
   ]
  },
  {
   "cell_type": "code",
   "execution_count": 2,
   "metadata": {},
   "outputs": [
    {
     "data": {
      "text/plain": [
       "['raw_data\\\\geneData10000.csv',\n",
       " 'raw_data\\\\geneData15000.csv',\n",
       " 'raw_data\\\\geneData20000.csv',\n",
       " 'raw_data\\\\geneData25000.csv',\n",
       " 'raw_data\\\\geneData30000.csv',\n",
       " 'raw_data\\\\geneData35000.csv',\n",
       " 'raw_data\\\\geneData40000.csv',\n",
       " 'raw_data\\\\geneData45000.csv',\n",
       " 'raw_data\\\\geneData5000.csv',\n",
       " 'raw_data\\\\geneData50000.csv',\n",
       " 'raw_data\\\\geneData54675.csv']"
      ]
     },
     "execution_count": 2,
     "metadata": {},
     "output_type": "execute_result"
    }
   ],
   "source": [
    "fnames = glob.glob('raw_data/*.csv')\n",
    "fnames"
   ]
  },
  {
   "cell_type": "code",
   "execution_count": 3,
   "metadata": {},
   "outputs": [
    {
     "name": "stdout",
     "output_type": "stream",
     "text": [
      "raw_data\\geneData10000.csv  :  1.973257949 4.157567203352784 14.39419445\n",
      "raw_data\\geneData15000.csv  :  1.973257949 8.082153651300729 14.39419445\n",
      "raw_data\\geneData20000.csv  :  1.973257949 6.263881789169205 14.39419445\n",
      "raw_data\\geneData25000.csv  :  1.973257949 6.7903501634908485 14.39419445\n",
      "raw_data\\geneData30000.csv  :  1.973257949 6.2653758114362335 14.20849554\n",
      "raw_data\\geneData35000.csv  :  1.973257949 6.883478812859307 14.39419445\n",
      "raw_data\\geneData40000.csv  :  2.01185632089109 6.587700044001167 14.20849554\n",
      "raw_data\\geneData45000.csv  :  1.973257949 5.115765048563669 13.82001836\n",
      "raw_data\\geneData5000.csv  :  1.973257949 4.774077435310826 14.39419445\n",
      "raw_data\\geneData50000.csv  :  1.973257949 4.894179649272543 13.80823055\n",
      "raw_data\\geneData54675.csv  :  1.973257949 5.0552971525902395 14.39419445\n"
     ]
    }
   ],
   "source": [
    "for fname in fnames:\n",
    "    df = pd.read_csv(fname)    \n",
    "    cols = list(df.columns[1:])    \n",
    "    mat = df.values[:,1:]\n",
    "    print(fname ,' : ', mat.min(),mat.mean(),mat.max())"
   ]
  },
  {
   "cell_type": "markdown",
   "metadata": {},
   "source": [
    "### Since the file is very large, it is read separately and the maximum, minimum and average values of the values in each file are calculated.\n",
    "All values less than 15 histogram range (0 ,15) is selected."
   ]
  },
  {
   "cell_type": "code",
   "execution_count": 4,
   "metadata": {},
   "outputs": [],
   "source": [
    "hist_range = (0,15)"
   ]
  },
  {
   "cell_type": "code",
   "execution_count": 5,
   "metadata": {},
   "outputs": [],
   "source": [
    "histogram_difference_thresh = 0.41584158\n",
    "hist_range = (0,15)\n",
    "histogram_difference = []\n",
    "fname_list = []\n",
    "gene_list = []\n",
    "data_list = []\n",
    "hist_list = []\n",
    "for fname in fnames:\n",
    "    df = pd.read_csv(fname)    \n",
    "    cols = list(df.columns[1:])    \n",
    "    mat = df.values[:,1:]\n",
    "    mat_lower = mat[:101,:]\n",
    "    mat_upper = mat[101:,:]\n",
    "    for i in range(mat.shape[1]):\n",
    "        vec_met =  mat_lower[:,i]\n",
    "        vec_non_met =  mat_upper[:,i]\n",
    "        hist_met, _  = np.histogram(vec_met,bins=100,range=hist_range)\n",
    "        hist_non_met, _  = np.histogram(vec_non_met,bins=100,range=hist_range)\n",
    "        dfact = np.abs(hist_met - hist_non_met).sum() / 202\n",
    "        gene_list.append(cols[i])\n",
    "        fname_list.append(fname)\n",
    "        histogram_difference.append(dfact)\n",
    "        data_list.append(mat[:,i])\n",
    "        hist_list.append([hist_met,hist_non_met])"
   ]
  },
  {
   "cell_type": "markdown",
   "metadata": {},
   "source": [
    "### We're looking at the histogram of the histogram differences."
   ]
  },
  {
   "cell_type": "code",
   "execution_count": 6,
   "metadata": {},
   "outputs": [
    {
     "data": {
      "image/png": "[encoded data removed]",
      "text/plain": [
       "<Figure size 864x432 with 1 Axes>"
      ]
     },
     "metadata": {},
     "output_type": "display_data"
    }
   ],
   "source": [
    "plt.style.use('seaborn')\n",
    "fig, ax = plt.subplots(figsize=(12, 6))\n",
    "ax.set_title('Histogram Difference Histogram ')\n",
    "#ax.set_ylim(0,10)\n",
    "#ax.set_xlim(0,100)\n",
    "_ = ax.hist(histogram_difference,bins=100)"
   ]
  },
  {
   "cell_type": "markdown",
   "metadata": {},
   "source": [
    "### We look at the gene with the largest Histogram difference and its distributions."
   ]
  },
  {
   "cell_type": "code",
   "execution_count": 7,
   "metadata": {},
   "outputs": [
    {
     "data": {
      "text/plain": [
       "0.48514851485148514"
      ]
     },
     "execution_count": 7,
     "metadata": {},
     "output_type": "execute_result"
    }
   ],
   "source": [
    "ix = np.argmax(histogram_difference)\n",
    "histogram_difference[ix]"
   ]
  },
  {
   "cell_type": "code",
   "execution_count": 8,
   "metadata": {},
   "outputs": [],
   "source": [
    "h_met,h_non_met = hist_list[ix]"
   ]
  },
  {
   "cell_type": "code",
   "execution_count": 9,
   "metadata": {},
   "outputs": [
    {
     "data": {
      "text/plain": [
       "<matplotlib.legend.Legend at 0x28adba785c8>"
      ]
     },
     "execution_count": 9,
     "metadata": {},
     "output_type": "execute_result"
    },
    {
     "data": {
      "image/png": "[encoded data removed]",
      "text/plain": [
       "<Figure size 1152x576 with 1 Axes>"
      ]
     },
     "metadata": {},
     "output_type": "display_data"
    }
   ],
   "source": [
    "plt.style.use('seaborn')\n",
    "fig, ax = plt.subplots(figsize=(16, 8))\n",
    "ax.set_title('Gen : '+gene_list[ix])\n",
    "ax.set_ylim(0,10)\n",
    "ax.set_xlim(0,100)\n",
    "ax.bar(range(100), h_met, label='Met')\n",
    "ax.bar(range(100), h_non_met,label='Non Met')\n",
    "ax.legend()"
   ]
  },
  {
   "cell_type": "markdown",
   "metadata": {},
   "source": [
    "### We select genes that are above the mean + 3 x standard deviation on the side where the difference is large."
   ]
  },
  {
   "cell_type": "code",
   "execution_count": 10,
   "metadata": {},
   "outputs": [],
   "source": [
    "histogram_difference =  np.array(histogram_difference)"
   ]
  },
  {
   "cell_type": "code",
   "execution_count": 11,
   "metadata": {},
   "outputs": [
    {
     "data": {
      "text/plain": [
       "(0.009900990099009901,\n",
       " 0.18839913620991733,\n",
       " 0.48514851485148514,\n",
       " 0.0711749440573266)"
      ]
     },
     "execution_count": 11,
     "metadata": {},
     "output_type": "execute_result"
    }
   ],
   "source": [
    "histogram_difference.min(),histogram_difference.mean(),histogram_difference.max(),histogram_difference.std()"
   ]
  },
  {
   "cell_type": "code",
   "execution_count": 12,
   "metadata": {},
   "outputs": [
    {
     "data": {
      "text/plain": [
       "0.40192396838189715"
      ]
     },
     "execution_count": 12,
     "metadata": {},
     "output_type": "execute_result"
    }
   ],
   "source": [
    "histogram_difference_thresh = histogram_difference.mean() + 3* histogram_difference.std()\n",
    "histogram_difference_thresh"
   ]
  },
  {
   "cell_type": "code",
   "execution_count": 13,
   "metadata": {},
   "outputs": [
    {
     "data": {
      "text/plain": [
       "208"
      ]
     },
     "execution_count": 13,
     "metadata": {},
     "output_type": "execute_result"
    }
   ],
   "source": [
    "len(histogram_difference[histogram_difference > histogram_difference_thresh])"
   ]
  },
  {
   "cell_type": "markdown",
   "metadata": {},
   "source": [
    "### 208 tane öznitelik 202 tane örneği olan bir problem için yine fazla  \n",
    "### eşik değeri biraz daha artırıp  öznitelik sayısını biraz daha düşürüyoruz"
   ]
  },
  {
   "cell_type": "code",
   "execution_count": 14,
   "metadata": {},
   "outputs": [
    {
     "data": {
      "text/plain": [
       "133"
      ]
     },
     "execution_count": 14,
     "metadata": {},
     "output_type": "execute_result"
    }
   ],
   "source": [
    "histogram_difference_thresh = 0.41584158\n",
    "len(histogram_difference[histogram_difference > histogram_difference_thresh])"
   ]
  },
  {
   "cell_type": "code",
   "execution_count": 15,
   "metadata": {},
   "outputs": [],
   "source": [
    "selected_gens = histogram_difference > histogram_difference_thresh"
   ]
  },
  {
   "cell_type": "code",
   "execution_count": 16,
   "metadata": {},
   "outputs": [],
   "source": [
    "data_X  = np.array(data_list)[selected_gens].transpose()\n",
    "n = 101\n",
    "y = np.array(n*[1] + n*[0])"
   ]
  },
  {
   "cell_type": "code",
   "execution_count": 17,
   "metadata": {},
   "outputs": [
    {
     "data": {
      "text/plain": [
       "((202, 133), (202,))"
      ]
     },
     "execution_count": 17,
     "metadata": {},
     "output_type": "execute_result"
    }
   ],
   "source": [
    "data_X.shape,y.shape"
   ]
  },
  {
   "cell_type": "markdown",
   "metadata": {},
   "source": [
    "### Seçtiğimiz verileri Kaydediyoruz"
   ]
  },
  {
   "cell_type": "code",
   "execution_count": 18,
   "metadata": {},
   "outputs": [],
   "source": [
    "np.save('data/data_x.npy',data_X)\n",
    "np.save('data/data_y.npy',y)"
   ]
  },
  {
   "cell_type": "code",
   "execution_count": 19,
   "metadata": {},
   "outputs": [],
   "source": [
    "with open('data/feature_names.pkl','wb') as fp:\n",
    "    pickle.dump(list(np.array(gene_list)[selected_gens]),fp)"
   ]
  },
  {
   "cell_type": "code",
   "execution_count": 20,
   "metadata": {},
   "outputs": [],
   "source": [
    "with open('data/file_names.pkl','wb') as fp:\n",
    "    pickle.dump(list(np.array(fname_list)[selected_gens]),fp)"
   ]
  },
  {
   "cell_type": "code",
   "execution_count": 21,
   "metadata": {},
   "outputs": [],
   "source": [
    "with open('data/feature_histograms.pkl','wb') as fp:\n",
    "    pickle.dump(list(np.array(hist_list)[selected_gens]),fp)"
   ]
  },
  {
   "cell_type": "code",
   "execution_count": null,
   "metadata": {},
   "outputs": [],
   "source": []
  }
 ],
 "metadata": {
  "kernelspec": {
   "display_name": "Python 3",
   "language": "python",
   "name": "python3"
  },
  "language_info": {
   "codemirror_mode": {
    "name": "ipython",
    "version": 3
   },
   "file_extension": ".py",
   "mimetype": "text/x-python",
   "name": "python",
   "nbconvert_exporter": "python",
   "pygments_lexer": "ipython3",
   "version": "3.7.6"
  }
 },
 "nbformat": 4,
 "nbformat_minor": 2
}
